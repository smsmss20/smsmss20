{
  "nbformat": 4,
  "nbformat_minor": 0,
  "metadata": {
    "colab": {
      "provenance": [],
      "authorship_tag": "ABX9TyO6I2yrkpKzO9Q9cpzxVxfh",
      "include_colab_link": true
    },
    "kernelspec": {
      "name": "python3",
      "display_name": "Python 3"
    },
    "language_info": {
      "name": "python"
    }
  },
  "cells": [
    {
      "cell_type": "markdown",
      "metadata": {
        "id": "view-in-github",
        "colab_type": "text"
      },
      "source": [
        "<a href=\"https://colab.research.google.com/github/smsmss20/smsmss20/blob/main/1381211_BNK%EB%94%94%EC%A7%80%ED%84%B8%EA%B8%88%EC%9C%B5_%EC%9D%B4%EC%83%81%EB%AF%B8(HW2).ipynb\" target=\"_parent\"><img src=\"https://colab.research.google.com/assets/colab-badge.svg\" alt=\"Open In Colab\"/></a>"
      ]
    },
    {
      "cell_type": "code",
      "execution_count": 97,
      "metadata": {
        "colab": {
          "base_uri": "https://localhost:8080/"
        },
        "id": "-v8oS-DVf6n2",
        "outputId": "d9f66a75-2ade-4775-e5ad-3ae53a581ce0"
      },
      "outputs": [
        {
          "output_type": "stream",
          "name": "stdout",
          "text": [
            "150\n",
            "바나나\n",
            "['사과', '포도', '딸기', '오렌지']\n",
            "5\n",
            "[5, 4, 3, 2, 1]\n",
            "10\n",
            "50\n",
            "(1, 2, 3, 4, 5, 6)\n",
            "2\n",
            "(1, 2, 3, 4, 5)\n",
            "(6, 7, 8, 9, 10)\n",
            "[10, 20, 30, 40, 50]\n",
            "(10, 20, 30, 40, 50)\n",
            "{'학생이름': '홍길동', '학생나이': '18세', '학생주소': '서울시 강남구', '학생과목성적': {'수학': 95, '과학': 88, '영어': 78}}\n",
            "20\n",
            "{'A': 10, 'B': 20, 'C': 30, 'D': 40, 'E': 50}\n"
          ]
        }
      ],
      "source": [
        "#1,번문제\n",
        "myList=[10,20,30,40,50]\n",
        "print(sum(myList))\n",
        "\n",
        "#2번문제\n",
        "fruits=[\"사과\",\"바나나\",\"딸기,\"\"오렌지\"]\n",
        "print(fruits[1])\n",
        "\n",
        "#3번문제\n",
        "fruits=[\"사과\",\"바나나\",\"딸기\",\"오렌지\"]\n",
        "fruits[1]='포도'\n",
        "print(fruits)\n",
        "\n",
        "#4번문제\n",
        "numbers=[5,10,15,20,25]\n",
        "print(len(numbers))\n",
        "\n",
        "#5번문제\n",
        "original_list=[1,2,3,4,5]\n",
        "original_list.reverse()\n",
        "print(original_list)\n",
        "\n",
        "#6번문제\n",
        "튜플=(10,20,30,40,50)\n",
        "print(튜플[0])\n",
        "print(튜플[4])\n",
        "\n",
        "#7번문제\n",
        "튜플1=(1,2,3)\n",
        "튜플2=(4,5,6)\n",
        "print(튜플1+튜플2)\n",
        "\n",
        "#8번문제\n",
        "튜플=(5,10,15,20,10)\n",
        "a=튜플.count(10)\n",
        "print(a)\n",
        "\n",
        "#9번문제\n",
        "튜플=(1,2,3,4,5),(6,7,8,9,10)\n",
        "print(튜플[0])\n",
        "print(튜플[1])\n",
        "\n",
        "#10번문제\n",
        "a=10,20,30,40,50\n",
        "리스트=list(a)\n",
        "튜플=tuple(a)\n",
        "print(리스트)\n",
        "print(튜플)\n",
        "\n",
        "#11번문제\n",
        "a = {'학생이름':'홍길동','학생나이':'18세','학생주소':'서울시 강남구','학생과목성적':{\"수학\": 95, \"과학\": 88, \"영어\": 78}}\n",
        "print(a)\n",
        "\n",
        "#12번문제\n",
        "a={\"A\": 10, \"B\": 20, \"C\": 30, \"D\": 40}\n",
        "print(a.pop(\"B\"))\n",
        "\n",
        "#13번문제\n",
        "a={\"A\": 10, \"B\": 20, \"C\": 30, \"D\": 40}\n",
        "a.update({'E':50})\n",
        "print(a)"
      ]
    },
    {
      "cell_type": "code",
      "source": [],
      "metadata": {
        "id": "eJIvKX0Hmw3Q"
      },
      "execution_count": null,
      "outputs": []
    }
  ]
}