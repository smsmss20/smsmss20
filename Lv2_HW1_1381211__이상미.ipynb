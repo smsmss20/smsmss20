{
  "nbformat": 4,
  "nbformat_minor": 0,
  "metadata": {
    "colab": {
      "provenance": [],
      "authorship_tag": "ABX9TyMChavWqqvrQ+bBvT3Fs8bC",
      "include_colab_link": true
    },
    "kernelspec": {
      "name": "python3",
      "display_name": "Python 3"
    },
    "language_info": {
      "name": "python"
    }
  },
  "cells": [
    {
      "cell_type": "markdown",
      "metadata": {
        "id": "view-in-github",
        "colab_type": "text"
      },
      "source": [
        "<a href=\"https://colab.research.google.com/github/smsmss20/smsmss20/blob/main/Lv2_HW1_1381211__%EC%9D%B4%EC%83%81%EB%AF%B8.ipynb\" target=\"_parent\"><img src=\"https://colab.research.google.com/assets/colab-badge.svg\" alt=\"Open In Colab\"/></a>"
      ]
    },
    {
      "cell_type": "code",
      "execution_count": null,
      "metadata": {
        "colab": {
          "base_uri": "https://localhost:8080/"
        },
        "id": "NcMAhSHHN12i",
        "outputId": "05772a3d-2d85-4994-d389-4c3edd34d892"
      },
      "outputs": [
        {
          "output_type": "stream",
          "name": "stdout",
          "text": [
            "8\n"
          ]
        }
      ],
      "source": [
        "def multiply(a,b):\n",
        "    return a*b\n",
        "print(multiply(2,4))"
      ]
    },
    {
      "cell_type": "code",
      "source": [
        "def Hello():\n",
        "    return \"World\"\n",
        "a= Hello()\n",
        "print(a)"
      ],
      "metadata": {
        "colab": {
          "base_uri": "https://localhost:8080/"
        },
        "id": "dyvNh-XwOJcA",
        "outputId": "14a94083-2096-4667-db0a-f3b3b26f88a5"
      },
      "execution_count": null,
      "outputs": [
        {
          "output_type": "stream",
          "name": "stdout",
          "text": [
            "World\n"
          ]
        }
      ]
    },
    {
      "cell_type": "code",
      "source": [
        "def add(a,b):\n",
        "    print(a,\", \",b,\"의 합은 \", a+b,\"입니다.\")\n",
        "add(3,4)"
      ],
      "metadata": {
        "colab": {
          "base_uri": "https://localhost:8080/"
        },
        "id": "4zKR8xgDOZLg",
        "outputId": "e9100934-8cbc-4617-beae-f0d393265324"
      },
      "execution_count": null,
      "outputs": [
        {
          "output_type": "stream",
          "name": "stdout",
          "text": [
            "7 ,  9 의 합은  16 입니다.\n"
          ]
        }
      ]
    },
    {
      "cell_type": "code",
      "source": [
        "def nothing():\n",
        "    print(\"else\")\n",
        "nothing()"
      ],
      "metadata": {
        "colab": {
          "base_uri": "https://localhost:8080/"
        },
        "id": "2iMk9w6GOqrL",
        "outputId": "61c78152-07ac-4b5a-813b-f0d190820a4b"
      },
      "execution_count": null,
      "outputs": [
        {
          "output_type": "stream",
          "name": "stdout",
          "text": [
            "else\n"
          ]
        }
      ]
    },
    {
      "cell_type": "code",
      "source": [
        "\n",
        "def add_all(*v):\n",
        "    sum = 0\n",
        "    for i in v:\n",
        "      sum = sum + i\n",
        "    return sum\n",
        "\n",
        "result1 = add_all(1,2,3)\n",
        "print(result1)\n",
        "result2 = add_all(1,2,3,4,5,6)\n",
        "print(result2)"
      ],
      "metadata": {
        "colab": {
          "base_uri": "https://localhost:8080/"
        },
        "id": "M7DlmstuPVIS",
        "outputId": "cb6902f7-cbdf-4356-dc93-10b2db6230cc"
      },
      "execution_count": null,
      "outputs": [
        {
          "output_type": "stream",
          "name": "stdout",
          "text": [
            "6\n",
            "21\n"
          ]
        }
      ]
    },
    {
      "cell_type": "code",
      "source": [
        "def print_kwargs(**kwargs):\n",
        "    print(kwargs)\n",
        "\n",
        "print_kwargs(city='London')\n",
        "print_kwargs(name='jane', age=88)"
      ],
      "metadata": {
        "colab": {
          "base_uri": "https://localhost:8080/"
        },
        "id": "B77lOO74VfDw",
        "outputId": "7555d2a7-e048-4150-cc17-e47a81b6d83d"
      },
      "execution_count": null,
      "outputs": [
        {
          "output_type": "stream",
          "name": "stdout",
          "text": [
            "{'city': 'London'}\n",
            "{'name': 'jane', 'age': 88}\n"
          ]
        }
      ]
    },
    {
      "cell_type": "code",
      "source": [
        "\n",
        "def l_multiply(func, a, b):\n",
        "    return func(a,b)\n",
        "\n",
        "result = l_multiply(lambda a,b : a*b, 2,4)\n",
        "print(result)"
      ],
      "metadata": {
        "colab": {
          "base_uri": "https://localhost:8080/"
        },
        "id": "RoIrtan_V55O",
        "outputId": "b5c796a3-fc86-4cba-8464-5ab0d2f41c41"
      },
      "execution_count": null,
      "outputs": [
        {
          "output_type": "stream",
          "name": "stdout",
          "text": [
            "8\n"
          ]
        }
      ]
    },
    {
      "cell_type": "code",
      "source": [
        "\n",
        "a = ['JAN','FEB','MAR','APR','MAY','JUN','JUL','AUG','SEP','OCT','NOV','DEC']\n",
        "b = [1,2,3,4,5,6,7,8,9,10,11,12]\n",
        "\n",
        "for index, (eng_month_name,number) in enumerate(zip(a,b), start = 1):\n",
        "    print(f\"index {index}: {eng_month_name}, {number}\")"
      ],
      "metadata": {
        "colab": {
          "base_uri": "https://localhost:8080/"
        },
        "id": "ILlvvna_WIzU",
        "outputId": "b680f522-9eab-4c33-fc11-70256bac0eee"
      },
      "execution_count": null,
      "outputs": [
        {
          "output_type": "stream",
          "name": "stdout",
          "text": [
            "index 1: JAN, 1\n",
            "index 2: FEB, 2\n",
            "index 3: MAR, 3\n",
            "index 4: APR, 4\n",
            "index 5: MAY, 5\n",
            "index 6: JUN, 6\n",
            "index 7: JUL, 7\n",
            "index 8: AUG, 8\n",
            "index 9: SEP, 9\n",
            "index 10: OCT, 10\n",
            "index 11: NOV, 11\n",
            "index 12: DEC, 12\n"
          ]
        }
      ]
    },
    {
      "cell_type": "code",
      "source": [
        "cal = [1,2,3,4,5]\n",
        "\n",
        "def sqr(func1):\n",
        "    return func1\n",
        "result_91 = sqr(list(map(lambda x : x**2, cal)))\n",
        "\n",
        "def add_hun(func2):\n",
        "    return func2\n",
        "result_92 = list(map(lambda x : x+100, cal))\n",
        "\n",
        "def check_even(func3):\n",
        "    return func3\n",
        "result_93 = list(map(lambda x : x%2==0, cal))\n",
        "\n",
        "print(f\"9-1: {result_91}\")\n",
        "print(f\"9-2: {result_92}\")\n",
        "print(f\"9-3: {result_93}\")"
      ],
      "metadata": {
        "colab": {
          "base_uri": "https://localhost:8080/"
        },
        "id": "gz1s9cVRWmKg",
        "outputId": "07552e9f-a262-4d7e-a473-72cab2d86fa3"
      },
      "execution_count": null,
      "outputs": [
        {
          "output_type": "stream",
          "name": "stdout",
          "text": [
            "9-1: [1, 4, 9, 16, 25]\n",
            "9-2: [101, 102, 103, 104, 105]\n",
            "9-3: [False, True, False, True, False]\n"
          ]
        }
      ]
    },
    {
      "cell_type": "code",
      "source": [
        "test_num= [1, 2, 3, 4, 5, 6, 7, 8, 9, 10]\n",
        "is_odd = list(filter(lambda x : x%2!=0, test_num))\n",
        "big_than = list(filter(lambda x : x >= 9, test_num))\n",
        "times_thr = list(filter(lambda x : x%3==0, test_num))\n",
        "print(f\"10-1: {is_odd}\")\n",
        "print(f\"10-2: {big_than}\")\n",
        "print(f\"10-3: {times_thr}\")"
      ],
      "metadata": {
        "colab": {
          "base_uri": "https://localhost:8080/"
        },
        "id": "lVV6SFoHXET0",
        "outputId": "f6a4bb95-02dc-44d1-9e2d-2d05515be93a"
      },
      "execution_count": null,
      "outputs": [
        {
          "output_type": "stream",
          "name": "stdout",
          "text": [
            "10-1: [1, 3, 5, 7, 9]\n",
            "10-2: [9, 10]\n",
            "10-3: [3, 6, 9]\n"
          ]
        }
      ]
    },
    {
      "cell_type": "code",
      "source": [
        "def convert_to_uppercase(input_str):\n",
        "    return input_str.upper()\n",
        "input_str = \"paris shanghai sydney\"\n",
        "result = convert_to_uppercase(input_str)\n",
        "print(result)"
      ],
      "metadata": {
        "colab": {
          "base_uri": "https://localhost:8080/"
        },
        "id": "c2krELDJYFD8",
        "outputId": "a555ef63-2002-4731-bf01-9dfd5486da99"
      },
      "execution_count": null,
      "outputs": [
        {
          "output_type": "stream",
          "name": "stdout",
          "text": [
            "PARIS SHANGHAI SYDNEY\n"
          ]
        }
      ]
    },
    {
      "cell_type": "code",
      "source": [
        "def calc_many(choice, *args):\n",
        "    a = 0\n",
        "    b = 1\n",
        "    if choice == \"sum\":\n",
        "        for i in args:\n",
        "            a = a+i\n",
        "        return a\n",
        "    elif choice == \"mul\":\n",
        "        for i in args:\n",
        "            b = b*i\n",
        "        return b\n",
        "    else:\n",
        "        print(\"choice를 정확히 입력해주세요\")\n",
        "\n",
        "result_sum = calc_many('sum', 1,2,3,4,5)\n",
        "print(result_sum)\n",
        "\n",
        "result_mul = calc_many('mul', 1,2,3,4,5)\n",
        "print(result_mul)"
      ],
      "metadata": {
        "colab": {
          "base_uri": "https://localhost:8080/"
        },
        "id": "FR7NxOF2aNUB",
        "outputId": "a2115776-5830-409b-ac04-aa9de6907cad"
      },
      "execution_count": null,
      "outputs": [
        {
          "output_type": "stream",
          "name": "stdout",
          "text": [
            "15\n",
            "120\n"
          ]
        }
      ]
    },
    {
      "cell_type": "code",
      "source": [],
      "metadata": {
        "id": "eZajpbMPb83Q"
      },
      "execution_count": null,
      "outputs": []
    }
  ]
}