{
  "nbformat": 4,
  "nbformat_minor": 0,
  "metadata": {
    "colab": {
      "provenance": [],
      "authorship_tag": "ABX9TyOwI6FOMHVhUHjhzaB/w6du",
      "include_colab_link": true
    },
    "kernelspec": {
      "name": "python3",
      "display_name": "Python 3"
    },
    "language_info": {
      "name": "python"
    }
  },
  "cells": [
    {
      "cell_type": "markdown",
      "metadata": {
        "id": "view-in-github",
        "colab_type": "text"
      },
      "source": [
        "<a href=\"https://colab.research.google.com/github/smsmss20/smsmss20/blob/main/HW(1).ipynb\" target=\"_parent\"><img src=\"https://colab.research.google.com/assets/colab-badge.svg\" alt=\"Open In Colab\"/></a>"
      ]
    },
    {
      "cell_type": "code",
      "execution_count": null,
      "metadata": {
        "colab": {
          "base_uri": "https://localhost:8080/"
        },
        "id": "7bT0dN9Rz3Gu",
        "outputId": "98281570-82d8-45ea-db41-b18f013b38fc"
      },
      "outputs": [
        {
          "output_type": "stream",
          "name": "stdout",
          "text": [
            "<class 'str'>\n",
            "720\n",
            "python\tjava\tpython\tjava\tpython\tjava\tpython\tjava\n",
            "성별 나타내는 숫자:1\n",
            "date :20210101\n",
            "weather :Sunny\n",
            "NOHTYP\n",
            "이름:김민수\t나이:10\n",
            "이름:이철희\t나이:13\n",
            "['2020', '05', '01']\n",
            "<class 'int'>\n",
            "Python\tCoding\n",
            "False\n",
            "Python\n",
            "true\n",
            "123.46\n",
            "30\n",
            "3\n"
          ]
        }
      ],
      "source": [
        "#1번문제\n",
        "a=\"123\"\n",
        "type(a)\n",
        "print(type(a))\n",
        "\n",
        "#2번문제\n",
        "i=720\n",
        "print (i)\n",
        "\n",
        "#3번문제\n",
        "t1='python'\n",
        "t2='java'\n",
        "t3=t1+'\\t'+t2+'\\t'+t1+'\\t'+t2+'\\t'+t1+'\\t'+t2+'\\t'+t1+'\\t'+t2\n",
        "print(t3)\n",
        "\n",
        "#4번문제\n",
        "jm=\"210101-1234567\"\n",
        "print('성별 나타내는 숫자:' + jm[7])\n",
        "\n",
        "#5번문제\n",
        "dw=\"20210101Sunny\"\n",
        "print(\"date :\" + dw[0:8])\n",
        "print(\"weather :\" + dw[8:])\n",
        "\n",
        "#6번문제\n",
        "string=\"PYTHON\"\n",
        "print (string[::-1])\n",
        "\n",
        "#7번문제\n",
        "name1=\"김민수\"\n",
        "age1=10\n",
        "name2=\"이철희\"\n",
        "age2=13\n",
        "print(\"이름:%s\" %'김민수'+'\\t'+\"나이:%d\"%age1)\n",
        "print(\"이름:%s\" %'이철희'+'\\t'+\"나이:%d\"%age2)\n",
        "\n",
        "#8번문제\n",
        "date='2020-05-01'\n",
        "print(date.split(\"-\"))\n",
        "\n",
        "#9번문제\n",
        "num=100\n",
        "print (type(num))\n",
        "\n",
        "#10번문제\n",
        "a=\"Python\"\n",
        "b=\"Coding\"\n",
        "print (a+'\\t'+b)\n",
        "\n",
        "#11번문제\n",
        "a=1<3\n",
        "b=1>3\n",
        "print((a) and (b))\n",
        "\n",
        "#12번문제\n",
        "sos=\"Hello, Python!\"\n",
        "print (sos[7:13])\n",
        "\n",
        "#13번문제\n",
        "a=50\n",
        "b=20\n",
        "if a>b:\n",
        "    print('true')\n",
        "\n",
        "#14번문제\n",
        "x=123.456\n",
        "print(\"%0.2f\" % x)\n",
        "\n",
        "#15번문제\n",
        "num1=10\n",
        "num2=20\n",
        "print (num1+num2)\n",
        "\n",
        "#16번문제\n",
        "b=\"Learning Python is fun\"\n",
        "print (b.count (\" \"))"
      ]
    },
    {
      "cell_type": "code",
      "source": [],
      "metadata": {
        "id": "-ItKWqmsLbT4"
      },
      "execution_count": null,
      "outputs": []
    }
  ]
}